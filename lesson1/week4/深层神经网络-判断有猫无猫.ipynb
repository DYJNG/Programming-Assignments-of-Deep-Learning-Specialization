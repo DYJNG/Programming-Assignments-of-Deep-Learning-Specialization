{
 "cells": [
  {
   "cell_type": "code",
   "execution_count": 52,
   "metadata": {
    "collapsed": true
   },
   "outputs": [],
   "source": [
    "# 导入包\n",
    "import numpy as np\n",
    "import matplotlib.pyplot as plt\n",
    "import h5py\n",
    "from testCases_v4 import *\n",
    "# from dnn_utils import sigmoid, sigmoid_backward, relu, relu_backward\n",
    "from dnn_utils import *\n",
    "import scipy\n",
    "from PIL import Image\n",
    "from scipy import ndimage\n",
    "import time\n",
    "\n",
    "%matplotlib inline\n",
    "\n",
    "# %load_ext autoreload\n",
    "# %autoreload 2\n",
    "\n",
    "# np.random.seed(1)"
   ]
  },
  {
   "cell_type": "code",
   "execution_count": 134,
   "metadata": {
    "collapsed": true
   },
   "outputs": [],
   "source": [
    "# 初始化参数\n",
    "def initialize_params(layer_dims):\n",
    "    params = {}\n",
    "    \n",
    "    L = len(layer_dims)\n",
    "    \n",
    "    for i in range(1, L):\n",
    "        params[\"W\" + str(i)] = np.random.randn(layer_dims[i], layer_dims[i-1]) * 0.2  # 注意 乘以0.01 梯度不下降（梯度消失）， 乘以0.3 梯度正常下降， 初始化参数很重要，思考\n",
    "#         params[\"W\" + str(i)] = np.random.randn(layer_dims[i], layer_dims[i-1]) * np.sqrt(2 / layer_dims[i-1])  # Xavier 效果很好 一定程度解决梯度消失、爆炸问题\n",
    "        params[\"b\" + str(i)] = np.zeros((layer_dims[i], 1))\n",
    "        \n",
    "        assert(params[\"W\" + str(i)].shape == (layer_dims[i], layer_dims[i-1]))\n",
    "        assert(params[\"b\" + str(i)].shape == (layer_dims[i], 1))\n",
    "    \n",
    "    return params"
   ]
  },
  {
   "cell_type": "code",
   "execution_count": 135,
   "metadata": {
    "collapsed": true
   },
   "outputs": [],
   "source": [
    "# 正向传播\n",
    "def forward_prop(X, params):\n",
    "    L = len(params) // 2\n",
    "    caches = {}\n",
    "    caches[\"A0\"] = X\n",
    "#     print(caches[\"A0\"].shape)\n",
    "    for i in range(1, L):\n",
    "        caches[\"Z\" + str(i)] = np.dot(params[\"W\" + str(i)], caches[\"A\" + str(i-1)]) + params[\"b\" + str(i)]\n",
    "#         print(caches[\"Z\" + str(i)].shape)   # debug\n",
    "        caches[\"A\" + str(i)] = relu(caches[\"Z\" + str(i)])[0]  # 注意relu返回两个值\n",
    "#         caches[\"A\" + str(i)] = np.maximum(0, caches[\"Z\" + str(i)])\n",
    "#         print(caches[\"A\" + str(i)].shape)   # debug\n",
    "    \n",
    "    caches[\"Z\" + str(L)] = np.dot(params[\"W\" + str(L)], caches[\"A\" + str(L-1)]) + params[\"b\" + str(L)]\n",
    "    caches[\"A\" + str(L)] = sigmoid(caches[\"Z\" + str(L)])[0]\n",
    "#     caches[\"A\" + str(L)] = 1 / (1 + np.exp(-caches[\"Z\" + str(L)]))\n",
    "    \n",
    "    AL = caches[\"A\" + str(L)]\n",
    "    \n",
    "    assert(AL.shape == (1, X.shape[1]))\n",
    "    \n",
    "    return AL, caches"
   ]
  },
  {
   "cell_type": "code",
   "execution_count": 136,
   "metadata": {
    "collapsed": true
   },
   "outputs": [],
   "source": [
    "# X, params = L_model_forward_test_case_2hidden()\n",
    "# AL, caches = forward_prop(X, params)\n",
    "# print(\"AL = \" + str(AL))\n",
    "# print(\"Length of caches list = \" + str(len(caches)))"
   ]
  },
  {
   "cell_type": "code",
   "execution_count": 137,
   "metadata": {
    "collapsed": true
   },
   "outputs": [],
   "source": [
    "# 代价函数\n",
    "def cost_fun(AL, Y):\n",
    "    m = Y.shape[1]\n",
    "    \n",
    "    cost = (-1/m) * np.sum(np.multiply(Y, np.log(AL)) + np.multiply((1-Y), np.log(1-AL)))\n",
    "    \n",
    "    cost = np.squeeze(cost)\n",
    "    \n",
    "    return cost"
   ]
  },
  {
   "cell_type": "code",
   "execution_count": 138,
   "metadata": {
    "collapsed": true
   },
   "outputs": [],
   "source": [
    "# Y, AL = compute_cost_test_case()\n",
    "\n",
    "# print(\"cost = \" + str(cost_fun(AL, Y)))"
   ]
  },
  {
   "cell_type": "code",
   "execution_count": 139,
   "metadata": {
    "collapsed": true
   },
   "outputs": [],
   "source": [
    "# def linear_backward(dZ, A_pre, W, b):\n",
    "#     \"\"\"\n",
    "#     Implement the linear portion of backward propagation for a single layer (layer l)\n",
    "\n",
    "\n",
    "#     Returns:\n",
    "#     dA_prev -- Gradient of the cost with respect to the activation (of the previous layer l-1), same shape as A_prev\n",
    "#     dW -- Gradient of the cost with respect to W (current layer l), same shape as W\n",
    "#     db -- Gradient of the cost with respect to b (current layer l), same shape as b\n",
    "#     \"\"\"\n",
    "#     m = A_pre.shape[1]\n",
    "\n",
    "#     ### START CODE HERE ### (≈ 3 lines of code)\n",
    "#     dW = (1/m) * np.dot(dZ, A_pre.T)\n",
    "#     db = (1/m) * np.sum(dZ, axis=1, keepdims=True)\n",
    "#     dA_prev = np.dot(W.T, dZ)\n",
    "#     ### END CODE HERE ###\n",
    "    \n",
    "#     assert (dA_prev.shape == A_pre.shape)\n",
    "#     assert (dW.shape == W.shape)\n",
    "#     assert (db.shape == b.shape)\n",
    "    \n",
    "#     return dA_prev, dW, db"
   ]
  },
  {
   "cell_type": "code",
   "execution_count": 140,
   "metadata": {
    "collapsed": true
   },
   "outputs": [],
   "source": [
    "# def linear_activation_backward(dA, Z, A_pre, W, b, activation):\n",
    "#     \"\"\"\n",
    "#     Implement the backward propagation for the LINEAR->ACTIVATION layer.\n",
    "    \n",
    "#     Arguments:\n",
    "#     dA -- post-activation gradient for current layer l \n",
    "#     cache -- tuple of values (linear_cache, activation_cache) we store for computing backward propagation efficiently\n",
    "#     activation -- the activation to be used in this layer, stored as a text string: \"sigmoid\" or \"relu\"\n",
    "    \n",
    "#     Returns:\n",
    "#     dA_prev -- Gradient of the cost with respect to the activation (of the previous layer l-1), same shape as A_prev\n",
    "#     dW -- Gradient of the cost with respect to W (current layer l), same shape as W\n",
    "#     db -- Gradient of the cost with respect to b (current layer l), same shape as b\n",
    "#     \"\"\"\n",
    "#     if activation == \"relu\":\n",
    "#         ### START CODE HERE ### (≈ 2 lines of code)\n",
    "#         dZ = relu_backward(dA, Z)\n",
    "#         dA_prev, dW, db = linear_backward(dZ, A_pre, W, b)\n",
    "#         ### END CODE HERE ###\n",
    "        \n",
    "#     elif activation == \"sigmoid\":\n",
    "#         ### START CODE HERE ### (≈ 2 lines of code)\n",
    "#         dZ = sigmoid_backward(dA, Z)\n",
    "#         dA_prev, dW, db = linear_backward(dZ, A_pre, W, b)\n",
    "#         ### END CODE HERE ###\n",
    "    \n",
    "#     return dA_prev, dW, db"
   ]
  },
  {
   "cell_type": "code",
   "execution_count": 141,
   "metadata": {
    "collapsed": true
   },
   "outputs": [],
   "source": [
    "# def backward_prop(params, caches, Y):\n",
    "#     \"\"\"\n",
    "#     Implement the backward propagation for the [LINEAR->RELU] * (L-1) -> LINEAR -> SIGMOID group\n",
    "    \n",
    "#     Arguments:\n",
    "#     AL -- probability vector, output of the forward propagation (L_model_forward())\n",
    "#     Y -- true \"label\" vector (containing 0 if non-cat, 1 if cat)\n",
    "#     caches -- list of caches containing:\n",
    "#                 every cache of linear_activation_forward() with \"relu\" (it's caches[l], for l in range(L-1) i.e l = 0...L-2)\n",
    "#                 the cache of linear_activation_forward() with \"sigmoid\" (it's caches[L-1])\n",
    "    \n",
    "#     Returns:\n",
    "#     grads -- A dictionary with the gradients\n",
    "#              grads[\"dA\" + str(l)] = ... \n",
    "#              grads[\"dW\" + str(l)] = ...\n",
    "#              grads[\"db\" + str(l)] = ... \n",
    "#     \"\"\"\n",
    "#     grads = {}\n",
    "#     L = len(params) // 2\n",
    "#     AL = caches[\"A\" + str(L)]\n",
    "#     m = AL.shape[1]\n",
    "#     Y = Y.reshape(AL.shape) # after this line, Y is the same shape as AL\n",
    "    \n",
    "#     # Initializing the backpropagation\n",
    "#     ### START CODE HERE ### (1 line of code)\n",
    "#     dAL = - (np.divide(Y, AL) - np.divide(1 - Y, 1 - AL)) \n",
    "#     ### END CODE HERE ###\n",
    "    \n",
    "#     # Lth layer (SIGMOID -> LINEAR) gradients. Inputs: \"dAL, current_cache\". Outputs: \"grads[\"dAL-1\"], grads[\"dWL\"], grads[\"dbL\"]\n",
    "#     ### START CODE HERE ### (approx. 2 lines)\n",
    "#     grads[\"dA\" + str(L-1)], grads[\"dW\" + str(L)], grads[\"db\" + str(L)] = linear_activation_backward(dAL, caches[\"Z\" + str(L)], caches[\"A\" + str(L-1)], params[\"W\" + str(L)], params[\"b\" + str(L)], 'sigmoid')\n",
    "#     ### END CODE HERE ###\n",
    "    \n",
    "#     # Loop from l=L-2 to l=0\n",
    "#     for l in reversed(range(L-1)):\n",
    "#         # lth layer: (RELU -> LINEAR) gradients.\n",
    "#         # Inputs: \"grads[\"dA\" + str(l + 1)], current_cache\". Outputs: \"grads[\"dA\" + str(l)] , grads[\"dW\" + str(l + 1)] , grads[\"db\" + str(l + 1)] \n",
    "#         ### START CODE HERE ### (approx. 5 lines)\n",
    "       \n",
    "#         dA_prev_temp, dW_temp, db_temp = linear_activation_backward(grads[\"dA\" + str(l+1)], caches[\"Z\" +str(l+1)], caches[\"A\" + str(l)], params[\"W\" + str(l+1)], params[\"b\" + str(l+1)], 'relu')\n",
    "#         grads[\"dA\" + str(l)] = dA_prev_temp\n",
    "#         grads[\"dW\" + str(l + 1)] = dW_temp\n",
    "#         grads[\"db\" + str(l + 1)] = db_temp\n",
    "#         ### END CODE HERE ###\n",
    "\n",
    "#     return grads"
   ]
  },
  {
   "cell_type": "code",
   "execution_count": 142,
   "metadata": {
    "collapsed": true
   },
   "outputs": [],
   "source": [
    "# 反向传播\n",
    "def backward_prop(params, caches, Y):\n",
    "    grads = {}\n",
    "    L = len(params) // 2\n",
    "#     print(L)\n",
    "    m = Y.shape[1]\n",
    "    \n",
    "    grads[\"dZ\" + str(L)] = caches[\"A\" + str(L)] - Y\n",
    "#     dAL =  - (np.divide(Y, caches[\"A\" + str(L)]) - np.divide(1 - Y, 1 - caches[\"A\" + str(L)]))\n",
    "#     grads[\"dZ\" + str(L)] = sigmoid_backward(dAL, caches[\"Z\" + str(L)])\n",
    "    for i in range(L):\n",
    "        grads[\"dW\" + str(L-i)] = (1/m) * np.dot(grads[\"dZ\" + str(L-i)], caches[\"A\" + str(L-i-1)].T)\n",
    "        grads[\"db\" + str(L-i)] = (1/m) * np.sum(grads[\"dZ\" + str(L-i)], axis=1, keepdims=True)\n",
    "        if (i < L-1):\n",
    "            grads[\"dA\" + str(L-i-1)] = np.dot(params[\"W\" + str(L-i)].T, grads[\"dZ\" + str(L-i)])\n",
    "            grads[\"dZ\" + str(L-i-1)] = relu_backward(grads[\"dA\" + str(L-i-1)], caches[\"Z\" + str(L-i-1)])\n",
    "        \n",
    "    return grads"
   ]
  },
  {
   "cell_type": "code",
   "execution_count": 143,
   "metadata": {
    "collapsed": true
   },
   "outputs": [],
   "source": [
    "# def update_params(params, grads, learning_rate):\n",
    "#     \"\"\"\n",
    "#     Update parameters using gradient descent\n",
    "    \n",
    "#     Arguments:\n",
    "#     parameters -- python dictionary containing your parameters \n",
    "#     grads -- python dictionary containing your gradients, output of L_model_backward\n",
    "    \n",
    "#     Returns:\n",
    "#     parameters -- python dictionary containing your updated parameters \n",
    "#                   parameters[\"W\" + str(l)] = ... \n",
    "#                   parameters[\"b\" + str(l)] = ...\n",
    "#     \"\"\"\n",
    "    \n",
    "#     L = len(params) // 2 # number of layers in the neural network\n",
    "\n",
    "#     # Update rule for each parameter. Use a for loop.\n",
    "#     ### START CODE HERE ### (≈ 3 lines of code)\n",
    "#     for l in range(L):\n",
    "#         params[\"W\" + str(l+1)] = params['W' + str(l + 1)] - learning_rate * grads['dW' + str(l + 1)]\n",
    "#         params[\"b\" + str(l+1)] = params['b' + str(l + 1)] - learning_rate * grads['db' + str(l + 1)]\n",
    "#     ### END CODE HERE ###\n",
    "        \n",
    "#     return params"
   ]
  },
  {
   "cell_type": "code",
   "execution_count": 144,
   "metadata": {
    "collapsed": true
   },
   "outputs": [],
   "source": [
    "# 构建模型\n",
    "def dnn_model(X, Y, layer_dims, num_itera = 3000, learning_rate = 0.0075, print_cost = False):\n",
    "    costs = []\n",
    "    params = initialize_params(layer_dims)\n",
    "    L = len(layer_dims)\n",
    "    print(L)\n",
    "    \n",
    "    for i in range(num_itera):\n",
    "        AL, caches = forward_prop(X, params)\n",
    "        cost = cost_fun(AL, Y)\n",
    "        grads = backward_prop(params, caches, Y)\n",
    "        \n",
    "        \n",
    "#         params = update_params(params, grads, learning_rate)\n",
    "        \n",
    "        for l in range(1, L):\n",
    "#             W = params[\"W\" + str(l)]\n",
    "# #             print(W.shape)\n",
    "#             b = params[\"b\" + str(l)]\n",
    "# #             print(b.shape)\n",
    "#             dW = grads[\"dW\" + str(l)]\n",
    "#             db = grads[\"db\" + str(l)]\n",
    "#             W = W - learning_rate * dW\n",
    "#             b = b - learning_rate * db\n",
    "#             params[\"W\" + str(l)] = W\n",
    "#             params[\"b\" + str(l)] = b \n",
    "            \n",
    "            params[\"W\" + str(l)] -= learning_rate * grads[\"dW\" + str(l)]\n",
    "            params[\"b\" + str(l)] -= learning_rate * grads[\"db\" + str(l)]\n",
    "        \n",
    "        if print_cost and (i % 100 == 0):\n",
    "            costs.append(cost)\n",
    "            print(\"Cost in iter %i is %f\" % (i, cost))\n",
    "    \n",
    "    # plot the cost\n",
    "    plt.plot(np.squeeze(costs))\n",
    "    plt.ylabel('cost')\n",
    "    plt.xlabel('iterations (per tens)')\n",
    "    plt.title(\"Learning rate =\" + str(learning_rate))\n",
    "    plt.show()\n",
    "    \n",
    "    return params"
   ]
  },
  {
   "cell_type": "code",
   "execution_count": 145,
   "metadata": {
    "collapsed": true
   },
   "outputs": [],
   "source": [
    "# def load_data():\n",
    "#     train_dataset = h5py.File('datasets/train_catvnoncat.h5', \"r\")\n",
    "#     train_set_x_orig = np.array(train_dataset[\"train_set_x\"][:]) # your train set features\n",
    "#     train_set_y_orig = np.array(train_dataset[\"train_set_y\"][:]) # your train set labels\n",
    "\n",
    "#     test_dataset = h5py.File('datasets/test_catvnoncat.h5', \"r\")\n",
    "#     test_set_x_orig = np.array(test_dataset[\"test_set_x\"][:]) # your test set features\n",
    "#     test_set_y_orig = np.array(test_dataset[\"test_set_y\"][:]) # your test set labels\n",
    "\n",
    "#     classes = np.array(test_dataset[\"list_classes\"][:]) # the list of classes\n",
    "    \n",
    "#     train_set_y_orig = train_set_y_orig.reshape((1, train_set_y_orig.shape[0]))\n",
    "#     test_set_y_orig = test_set_y_orig.reshape((1, test_set_y_orig.shape[0]))\n",
    "    \n",
    "#     return train_set_x_orig, train_set_y_orig, test_set_x_orig, test_set_y_orig, classes"
   ]
  },
  {
   "cell_type": "code",
   "execution_count": 146,
   "metadata": {
    "collapsed": true
   },
   "outputs": [],
   "source": [
    "# 导入数据集\n",
    "train_x_orig, train_y, test_x_orig, test_y, classes = load_data()"
   ]
  },
  {
   "cell_type": "code",
   "execution_count": 147,
   "metadata": {},
   "outputs": [
    {
     "name": "stdout",
     "output_type": "stream",
     "text": [
      "y = 0. It's a non-cat picture.\n"
     ]
    },
    {
     "data": {
      "image/png": "[encoded data removed]",
      "text/plain": [
       "<matplotlib.figure.Figure at 0x7f7faea4a080>"
      ]
     },
     "metadata": {},
     "output_type": "display_data"
    }
   ],
   "source": [
    "# Example of a picture\n",
    "index = 10\n",
    "plt.imshow(train_x_orig[index])\n",
    "print (\"y = \" + str(train_y[0,index]) + \". It's a \" + classes[train_y[0,index]].decode(\"utf-8\") +  \" picture.\")"
   ]
  },
  {
   "cell_type": "code",
   "execution_count": 148,
   "metadata": {},
   "outputs": [
    {
     "name": "stdout",
     "output_type": "stream",
     "text": [
      "Number of training examples: 209\n",
      "Number of testing examples: 50\n",
      "Each image is of size: (64, 64, 3)\n",
      "train_x_orig shape: (209, 64, 64, 3)\n",
      "train_y shape: (1, 209)\n",
      "test_x_orig shape: (50, 64, 64, 3)\n",
      "test_y shape: (1, 50)\n"
     ]
    }
   ],
   "source": [
    "# Explore your dataset \n",
    "m_train = train_x_orig.shape[0]\n",
    "num_px = train_x_orig.shape[1]\n",
    "m_test = test_x_orig.shape[0]\n",
    "\n",
    "print (\"Number of training examples: \" + str(m_train))\n",
    "print (\"Number of testing examples: \" + str(m_test))\n",
    "print (\"Each image is of size: (\" + str(num_px) + \", \" + str(num_px) + \", 3)\")\n",
    "print (\"train_x_orig shape: \" + str(train_x_orig.shape))\n",
    "print (\"train_y shape: \" + str(train_y.shape))\n",
    "print (\"test_x_orig shape: \" + str(test_x_orig.shape))\n",
    "print (\"test_y shape: \" + str(test_y.shape))"
   ]
  },
  {
   "cell_type": "code",
   "execution_count": 149,
   "metadata": {},
   "outputs": [
    {
     "name": "stdout",
     "output_type": "stream",
     "text": [
      "train_x's shape: (12288, 209)\n",
      "test_x's shape: (12288, 50)\n"
     ]
    }
   ],
   "source": [
    "# Reshape the training and test examples \n",
    "train_x_flatten = train_x_orig.reshape(train_x_orig.shape[0], -1).T   # The \"-1\" makes reshape flatten the remaining dimensions\n",
    "test_x_flatten = test_x_orig.reshape(test_x_orig.shape[0], -1).T\n",
    "\n",
    "# Standardize data to have feature values between 0 and 1.\n",
    "train_x = train_x_flatten/255.\n",
    "test_x = test_x_flatten/255.\n",
    "\n",
    "print (\"train_x's shape: \" + str(train_x.shape))\n",
    "print (\"test_x's shape: \" + str(test_x.shape))"
   ]
  },
  {
   "cell_type": "code",
   "execution_count": 150,
   "metadata": {
    "collapsed": true
   },
   "outputs": [],
   "source": [
    "### CONSTANTS ###\n",
    "# layer_dims = [12288, 20, 7, 5, 1] #  4-layer model\n",
    "layer_dims = [12288, 20, 7, 5, 1]"
   ]
  },
  {
   "cell_type": "code",
   "execution_count": 151,
   "metadata": {
    "collapsed": true
   },
   "outputs": [],
   "source": [
    "# debug\n",
    "# params = initialize_params(layer_dims)\n",
    "# print(params[\"W3\"].shape)\n",
    "# AL, caches = forward_prop(train_x, params)\n",
    "# print(caches)"
   ]
  },
  {
   "cell_type": "code",
   "execution_count": 152,
   "metadata": {
    "scrolled": false
   },
   "outputs": [
    {
     "name": "stdout",
     "output_type": "stream",
     "text": [
      "5\n",
      "Cost in iter 0 is 0.861724\n",
      "Cost in iter 100 is 0.646926\n",
      "Cost in iter 200 is 0.639546\n",
      "Cost in iter 300 is 0.631797\n",
      "Cost in iter 400 is 0.622522\n",
      "Cost in iter 500 is 0.610992\n",
      "Cost in iter 600 is 0.596134\n",
      "Cost in iter 700 is 0.576709\n",
      "Cost in iter 800 is 0.551397\n",
      "Cost in iter 900 is 0.520414\n",
      "Cost in iter 1000 is 0.485555\n",
      "Cost in iter 1100 is 0.446440\n",
      "Cost in iter 1200 is 0.402730\n",
      "Cost in iter 1300 is 0.356789\n",
      "Cost in iter 1400 is 0.309193\n",
      "Cost in iter 1500 is 0.281821\n",
      "Cost in iter 1600 is 0.248712\n",
      "Cost in iter 1700 is 0.199596\n",
      "Cost in iter 1800 is 0.147867\n",
      "Cost in iter 1900 is 0.094174\n",
      "Cost in iter 2000 is 0.068692\n",
      "Cost in iter 2100 is 0.047369\n",
      "Cost in iter 2200 is 0.034240\n",
      "Cost in iter 2300 is 0.025483\n",
      "Cost in iter 2400 is 0.019533\n",
      "Cost in iter 2500 is 0.015389\n",
      "Cost in iter 2600 is 0.012429\n",
      "Cost in iter 2700 is 0.010267\n",
      "Cost in iter 2800 is 0.008653\n",
      "Cost in iter 2900 is 0.007405\n"
     ]
    },
    {
     "data": {
      "image/png": "[encoded data removed]",
      "text/plain": [
       "<matplotlib.figure.Figure at 0x7f7faea53e48>"
      ]
     },
     "metadata": {},
     "output_type": "display_data"
    }
   ],
   "source": [
    "params = dnn_model(train_x, train_y, layer_dims, num_itera = 3000, learning_rate = 0.0075, print_cost = True)\n",
    "# 如果出现Cost不下降的问题， 就说明可能出现了梯度消失，这时要考虑 参数初始化的问题。"
   ]
  },
  {
   "cell_type": "code",
   "execution_count": 153,
   "metadata": {
    "collapsed": true
   },
   "outputs": [],
   "source": [
    "def predict(X, Y, params):\n",
    "    AL, caches = forward_prop(X, params)\n",
    "    pred = (AL > 0.5)\n",
    "    \n",
    "    acc = np.mean(pred == Y)\n",
    "    print(\"Accuracy: %f\" % acc)\n",
    "    return pred"
   ]
  },
  {
   "cell_type": "code",
   "execution_count": 154,
   "metadata": {},
   "outputs": [
    {
     "name": "stdout",
     "output_type": "stream",
     "text": [
      "Accuracy: 1.000000\n"
     ]
    }
   ],
   "source": [
    "pred_train = predict(train_x, train_y, params)"
   ]
  },
  {
   "cell_type": "code",
   "execution_count": 155,
   "metadata": {},
   "outputs": [
    {
     "name": "stdout",
     "output_type": "stream",
     "text": [
      "Accuracy: 0.680000\n"
     ]
    }
   ],
   "source": [
    "pred_test = predict(test_x, test_y, params)"
   ]
  },
  {
   "cell_type": "code",
   "execution_count": 94,
   "metadata": {},
   "outputs": [
    {
     "name": "stdout",
     "output_type": "stream",
     "text": [
      "Accuracy: 1.000000\n",
      "[[ True]]\n",
      "y = True, your L-layer model predicts a \"cat\" picture.\n"
     ]
    },
    {
     "data": {
      "image/png": "[encoded data removed]",
      "text/plain": [
       "<matplotlib.figure.Figure at 0x7f7fb89fac18>"
      ]
     },
     "metadata": {},
     "output_type": "display_data"
    }
   ],
   "source": [
    "## START CODE HERE ##\n",
    "my_image = \"black_cat.jpg\" # change this to the name of your image file \n",
    "my_label_y = [1] # the true class of your image (1 -> cat, 0 -> non-cat)\n",
    "## END CODE HERE ##\n",
    "\n",
    "fname = \"images/\" + my_image\n",
    "image = np.array(ndimage.imread(fname, flatten=False))\n",
    "my_image = scipy.misc.imresize(image, size=(num_px,num_px)).reshape((num_px*num_px*3,1))\n",
    "my_predicted_image = predict(my_image, my_label_y, params)\n",
    "print(my_predicted_image)\n",
    "plt.imshow(image)\n",
    "print (\"y = \" + str(np.squeeze(my_predicted_image)) + \", your L-layer model predicts a \\\"\" + classes[int(np.squeeze(my_predicted_image)),].decode(\"utf-8\") +  \"\\\" picture.\")"
   ]
  },
  {
   "cell_type": "code",
   "execution_count": null,
   "metadata": {
    "collapsed": true,
    "scrolled": true
   },
   "outputs": [],
   "source": [
    "np.mean(True == 1)"
   ]
  },
  {
   "cell_type": "code",
   "execution_count": null,
   "metadata": {
    "collapsed": true
   },
   "outputs": [],
   "source": []
  }
 ],
 "metadata": {
  "kernelspec": {
   "display_name": "Python 3",
   "language": "python",
   "name": "python3"
  },
  "language_info": {
   "codemirror_mode": {
    "name": "ipython",
    "version": 3
   },
   "file_extension": ".py",
   "mimetype": "text/x-python",
   "name": "python",
   "nbconvert_exporter": "python",
   "pygments_lexer": "ipython3",
   "version": "3.6.3"
  }
 },
 "nbformat": 4,
 "nbformat_minor": 2
}
