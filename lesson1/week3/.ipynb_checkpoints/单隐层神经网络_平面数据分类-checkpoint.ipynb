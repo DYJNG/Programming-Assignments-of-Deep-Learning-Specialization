{
 "cells": [
  {
   "cell_type": "code",
   "execution_count": 1,
   "metadata": {
    "collapsed": true
   },
   "outputs": [],
   "source": [
    "# 导入包\n",
    "import numpy as np\n",
    "import matplotlib.pyplot as plt\n",
    "import sklearn\n",
    "import sklearn.datasets\n",
    "import sklearn.linear_model\n",
    "from testCases_v2 import *\n",
    "from planar_utils import plot_decision_boundary, sigmoid, load_planar_dataset, load_extra_datasets\n",
    "\n",
    "%matplotlib inline\n",
    "\n",
    "np.random.seed(1)"
   ]
  },
  {
   "cell_type": "code",
   "execution_count": 6,
   "metadata": {},
   "outputs": [
    {
     "name": "stdout",
     "output_type": "stream",
     "text": [
      "The shape of X is: (2, 400)\n",
      "The shape of Y is: (1, 400)\n",
      "I have m = 400 training examples!\n"
     ]
    }
   ],
   "source": [
    "# 导入数据集\n",
    "X, Y = load_planar_dataset()\n",
    "\n",
    "# plt.scatter(X[0, :], X[1, :], c = Y, s = 40, cmap = plt.cm.Spectral);\n",
    "\n",
    "shape_X = X.shape\n",
    "shape_Y = Y.shape\n",
    "m = X.shape[1]\n",
    "print ('The shape of X is: ' + str(shape_X))\n",
    "print ('The shape of Y is: ' + str(shape_Y))\n",
    "print ('I have m = %d training examples!' % (m))"
   ]
  },
  {
   "cell_type": "code",
   "execution_count": 7,
   "metadata": {
    "collapsed": true
   },
   "outputs": [],
   "source": [
    "# 构建网络模型\n",
    "# 定义网络结构\n",
    "def layer_sizes(X, Y):\n",
    "    n_x = X.shape[0]\n",
    "    n_h = 4\n",
    "    n_y = Y.shape[0]\n",
    "    \n",
    "    return (n_x, n_h, n_y)"
   ]
  },
  {
   "cell_type": "code",
   "execution_count": 8,
   "metadata": {
    "collapsed": true
   },
   "outputs": [],
   "source": [
    "# 初始化模型参数\n",
    "def initialize_params(n_x, n_h, n_y):\n",
    "    W1 = np.random.randn(n_h, n_x) * 0.01\n",
    "    b1 = np.zeros((n_h, 1))\n",
    "    W2 = np.random.randn(n_y, n_h) * 0.01\n",
    "    b2 = np.zeros((n_y, 1))\n",
    "    \n",
    "    assert(W1.shape == (n_h, n_x))\n",
    "    assert(b1.shape == (n_h, 1))\n",
    "    assert(W2.shape == (n_y, n_h))\n",
    "    assert(b2.shape == (n_y, 1))\n",
    "    \n",
    "    params = {\"W1\": W1, \"b1\": b1,\n",
    "             \"W2\": W2, \"b2\": b2}\n",
    "    \n",
    "    return params"
   ]
  },
  {
   "cell_type": "code",
   "execution_count": 9,
   "metadata": {
    "collapsed": true
   },
   "outputs": [],
   "source": [
    "# 正向传播\n",
    "def forward_prop(params, X):\n",
    "    Z1 = np.dot(params[\"W1\"], X) + params[\"b1\"]\n",
    "    A1 = np.tanh(Z1)\n",
    "    Z2 = np.dot(params[\"W2\"], A1) + params[\"b2\"]\n",
    "    A2 = sigmoid(Z2)\n",
    "    \n",
    "    assert(A2.shape == (1, X.shape[1]))\n",
    "    \n",
    "    cache = {\"Z1\": Z1, \"A1\": A1, \n",
    "            \"Z2\": Z2, \"A2\": A2}\n",
    "    \n",
    "    return A2, cache"
   ]
  },
  {
   "cell_type": "code",
   "execution_count": 10,
   "metadata": {
    "collapsed": true
   },
   "outputs": [],
   "source": [
    "# 代价函数\n",
    "def cost_fun(A2, Y):\n",
    "    m = Y.shape[1]\n",
    "    cost = (-1/m) * np.sum(Y*np.log(A2) + (1-Y)*np.log(1-A2))\n",
    "    cost = np.squeeze(cost)\n",
    "    \n",
    "    return cost"
   ]
  },
  {
   "cell_type": "code",
   "execution_count": 11,
   "metadata": {
    "collapsed": true
   },
   "outputs": [],
   "source": [
    "# 反向传播\n",
    "def backward_prop(params, cache, X, Y):\n",
    "    m = X.shape[1]\n",
    "    dZ2 = cache[\"A2\"] - Y\n",
    "    dW2 = (1/m) * np.dot(dZ2, cache[\"A1\"].T)\n",
    "    db2 = (1/m) * np.sum(dZ2, axis=1, keepdims=True)\n",
    "    dZ1 = np.dot(params[\"W2\"].T, dZ2) * (1 - np.power(cache[\"A1\"], 2))\n",
    "    dW1 = (1/m) * np.dot(dZ1, X.T)\n",
    "    db1 = (1/m) * np.sum(dZ1, axis=1, keepdims=True)\n",
    "    \n",
    "    grads = {\"dW1\": dW1, \"db1\": db1, \n",
    "            \"dW2\": dW2, \"db2\": db2}\n",
    "    \n",
    "    return grads"
   ]
  },
  {
   "cell_type": "code",
   "execution_count": 31,
   "metadata": {
    "collapsed": true
   },
   "outputs": [],
   "source": [
    "# 模型函数\n",
    "def nn_model(X, Y, n_h, num_itera, learning_rate = 1.2, print_cost = False):\n",
    "    \n",
    "    np.random.seed(3)\n",
    "    n_x = layer_sizes(X, Y)[0]\n",
    "    n_y = layer_sizes(X, Y)[2]\n",
    "    \n",
    "    params = initialize_params(n_x, n_h, n_y)\n",
    "    W1 = params[\"W1\"]\n",
    "    b1 = params[\"b1\"]\n",
    "    W2 = params[\"W2\"]\n",
    "    b2 = params[\"b2\"]\n",
    "    costs = []\n",
    "    \n",
    "    for i in range(num_itera):\n",
    "        A2, cache = forward_prop(params, X)\n",
    "        \n",
    "        cost = cost_fun(A2, Y)\n",
    "        \n",
    "        grads = backward_prop(params, cache, X, Y)\n",
    "        \n",
    "        W1 -= learning_rate * grads[\"dW1\"]\n",
    "        b1 -= learning_rate * grads[\"db1\"]\n",
    "        W2 -= learning_rate * grads[\"dW2\"]\n",
    "        b2 -= learning_rate * grads[\"db2\"]\n",
    "        \n",
    "        params = {\"W1\": W1, \"b1\": b1, \n",
    "                  \"W2\": W2, \"b2\": b2}\n",
    "        \n",
    "        if print_cost and (i % 1000 == 0):\n",
    "            costs.append(cost)\n",
    "            print(\"Cost after iteration %i: %f\" % (i, cost))\n",
    "        \n",
    "    return params"
   ]
  },
  {
   "cell_type": "code",
   "execution_count": 32,
   "metadata": {},
   "outputs": [],
   "source": [
    "# 预测函数\n",
    "def predict(params, X):\n",
    "    \n",
    "    A2, cache = forward_prop(params, X)\n",
    "    pred = (A2 > 0.5)\n",
    "    \n",
    "    assert(pred.shape == (1, X.shape[1]))\n",
    "    \n",
    "    return pred"
   ]
  },
  {
   "cell_type": "code",
   "execution_count": 91,
   "metadata": {
    "scrolled": false
   },
   "outputs": [
    {
     "name": "stdout",
     "output_type": "stream",
     "text": [
      "Cost after iteration 0: 0.693082\n",
      "Cost after iteration 1000: 0.272784\n",
      "Cost after iteration 2000: 0.212757\n",
      "Cost after iteration 3000: 0.194818\n",
      "Cost after iteration 4000: 0.186806\n",
      "Cost after iteration 5000: 0.181931\n",
      "Cost after iteration 6000: 0.178446\n",
      "Cost after iteration 7000: 0.175816\n",
      "Cost after iteration 8000: 0.173780\n",
      "Cost after iteration 9000: 0.172174\n"
     ]
    }
   ],
   "source": [
    "# Build a model with a n_h-dimensional hidden layer\n",
    "params = nn_model(X, Y, n_h = 5, num_itera = 10000, learning_rate = 1.0, print_cost=True)\n",
    "\n",
    "# Plot the decision boundary\n",
    "# plot_decision_boundary(lambda x: predict(params, x.T), X, Y)\n",
    "# plt.title(\"Decision Boundary for hidden layer size \" + str(4))"
   ]
  },
  {
   "cell_type": "code",
   "execution_count": 92,
   "metadata": {},
   "outputs": [
    {
     "name": "stdout",
     "output_type": "stream",
     "text": [
      "Accuracy: 91.750000%\n"
     ]
    }
   ],
   "source": [
    "# Print accuracy\n",
    "pred = predict(params, X)\n",
    "print ('Accuracy: %f' % (np.mean(pred == Y) * 100) + '%')"
   ]
  }
 ],
 "metadata": {
  "kernelspec": {
   "display_name": "Python 3",
   "language": "python",
   "name": "python3"
  },
  "language_info": {
   "codemirror_mode": {
    "name": "ipython",
    "version": 3
   },
   "file_extension": ".py",
   "mimetype": "text/x-python",
   "name": "python",
   "nbconvert_exporter": "python",
   "pygments_lexer": "ipython3",
   "version": "3.6.3"
  }
 },
 "nbformat": 4,
 "nbformat_minor": 2
}
