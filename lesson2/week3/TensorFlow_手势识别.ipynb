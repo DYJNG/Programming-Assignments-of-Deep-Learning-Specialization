{
 "cells": [
  {
   "cell_type": "code",
   "execution_count": 1,
   "metadata": {},
   "outputs": [
    {
     "name": "stderr",
     "output_type": "stream",
     "text": [
      "/home/dyjng/anaconda3/lib/python3.6/importlib/_bootstrap.py:219: RuntimeWarning: compiletime version 3.5 of module 'tensorflow.python.framework.fast_tensor_util' does not match runtime version 3.6\n",
      "  return f(*args, **kwds)\n"
     ]
    }
   ],
   "source": [
    "import numpy as np\n",
    "import tensorflow as tf\n",
    "import h5py\n",
    "import scipy\n",
    "import matplotlib.pyplot as plt\n",
    "import math\n",
    "from tensorflow.python.framework import ops\n",
    "from tf_utils import load_dataset, random_mini_batches, convert_to_one_hot, predict, forward_propagation_for_predict\n",
    "\n",
    "%matplotlib inline"
   ]
  },
  {
   "cell_type": "code",
   "execution_count": 2,
   "metadata": {},
   "outputs": [
    {
     "name": "stdout",
     "output_type": "stream",
     "text": [
      "(1080, 64, 64, 3) \n",
      " (1, 1080) \n",
      " (120, 64, 64, 3) \n",
      " (1, 120)\n"
     ]
    }
   ],
   "source": [
    "# 导入数据集\n",
    "train_x_org, train_y_org, test_x_org, test_y_org, classes = load_dataset()\n",
    "print(train_x_org.shape, '\\n', train_y_org.shape, '\\n', test_x_org.shape, '\\n', test_y_org.shape)"
   ]
  },
  {
   "cell_type": "code",
   "execution_count": 3,
   "metadata": {},
   "outputs": [
    {
     "name": "stdout",
     "output_type": "stream",
     "text": [
      "y = 2\n"
     ]
    },
    {
     "data": {
      "image/png": "[encoded data removed]",
      "text/plain": [
       "<matplotlib.figure.Figure at 0x7fb9f38fe2e8>"
      ]
     },
     "metadata": {},
     "output_type": "display_data"
    }
   ],
   "source": [
    "index = 999\n",
    "plt.imshow(train_x_org[index])\n",
    "print (\"y = \" + str(np.squeeze(train_y_org[:, index])))"
   ]
  },
  {
   "cell_type": "code",
   "execution_count": 4,
   "metadata": {},
   "outputs": [
    {
     "name": "stdout",
     "output_type": "stream",
     "text": [
      "(12288, 1080) \n",
      " (12288, 120) \n",
      " (6, 1080) \n",
      " (6, 120)\n"
     ]
    }
   ],
   "source": [
    "train_x = train_x_org.reshape(train_x_org.shape[0], -1).T / 255\n",
    "test_x = test_x_org.reshape(test_x_org.shape[0], -1).T / 255\n",
    "train_y = convert_to_one_hot(train_y_org, 6)\n",
    "test_y = convert_to_one_hot(test_y_org, 6)\n",
    "print(train_x.shape, '\\n', test_x.shape, '\\n', train_y.shape, '\\n', test_y.shape)"
   ]
  },
  {
   "cell_type": "code",
   "execution_count": 5,
   "metadata": {
    "collapsed": true
   },
   "outputs": [],
   "source": [
    "# 创建placeholder\n",
    "def create_placeholder(nx, ny):\n",
    "    x = tf.placeholder('float', shape=(nx, None))\n",
    "    y = tf.placeholder('float', shape=(ny, None))\n",
    "    return x, y"
   ]
  },
  {
   "cell_type": "code",
   "execution_count": 6,
   "metadata": {
    "collapsed": true
   },
   "outputs": [],
   "source": [
    "# tf.placeholder??"
   ]
  },
  {
   "cell_type": "code",
   "execution_count": 7,
   "metadata": {
    "collapsed": true
   },
   "outputs": [],
   "source": [
    "# 初始化参数\n",
    "def init_params(layer_dims):\n",
    "    params = {}\n",
    "    L = len(layer_dims)\n",
    "    for l in range(1, L):\n",
    "        params[\"W\" + str(l)] = tf.get_variable('W' + str(l), [layer_dims[l], layer_dims[l-1]], initializer=tf.contrib.layers.xavier_initializer())\n",
    "        params[\"b\" + str(l)] = tf.get_variable('b' + str(l), [layer_dims[l], 1], initializer=tf.zeros_initializer())\n",
    "    \n",
    "    return params"
   ]
  },
  {
   "cell_type": "code",
   "execution_count": 8,
   "metadata": {
    "collapsed": true
   },
   "outputs": [],
   "source": [
    "# tf.get_variable??"
   ]
  },
  {
   "cell_type": "code",
   "execution_count": 9,
   "metadata": {
    "collapsed": true
   },
   "outputs": [],
   "source": [
    "# 正向传播\n",
    "def forward_prop(X, params):\n",
    "    caches = {}\n",
    "    caches[\"A0\"] = X\n",
    "    L = len(params) // 2\n",
    "    for l in range(1, L):\n",
    "        caches[\"Z\" + str(l)] = tf.add(tf.matmul(params[\"W\" + str(l)], caches[\"A\" + str(l-1)]), params[\"b\" + str(l)])\n",
    "        caches[\"A\" + str(l)] = tf.nn.relu(caches[\"Z\" + str(l)])\n",
    "    caches[\"Z\" + str(L)] = tf.add(tf.matmul(params[\"W\" + str(L)], caches[\"A\" + str(L-1)]), params[\"b\" + str(L)])\n",
    "    ZL = caches[\"Z\" + str(L)]\n",
    "    \n",
    "    return ZL, caches"
   ]
  },
  {
   "cell_type": "code",
   "execution_count": 10,
   "metadata": {
    "collapsed": true
   },
   "outputs": [],
   "source": [
    "# 代价函数\n",
    "def cost_fun(ZL, Y):\n",
    "    \n",
    "    logits = tf.transpose(ZL)\n",
    "    labels = tf.transpose(Y)\n",
    "    \n",
    "    cost= tf.reduce_mean(tf.nn.softmax_cross_entropy_with_logits(labels=labels, logits=logits))\n",
    "    \n",
    "    return cost"
   ]
  },
  {
   "cell_type": "code",
   "execution_count": 11,
   "metadata": {
    "collapsed": true
   },
   "outputs": [],
   "source": [
    "# tf.nn.softmax_cross_entropy_with_logits??"
   ]
  },
  {
   "cell_type": "code",
   "execution_count": 12,
   "metadata": {
    "collapsed": true
   },
   "outputs": [],
   "source": [
    "# 反向传播 求导\n",
    "# tensorflow 自动完成\n",
    "# optimizer = tf.train.GradientDescentOptimizer(learning_rate = learning_rate).minimize(cost)\n",
    "# optimizer = tf.train.AdamOptimizer(learning_rate = learning_rate).minimize(cost)"
   ]
  },
  {
   "cell_type": "code",
   "execution_count": 41,
   "metadata": {
    "collapsed": true
   },
   "outputs": [],
   "source": [
    "# 定义模型\n",
    "def model(train_x, train_y, test_x, test_y, layer_dims, batch_size = 32, \n",
    "          num_itera = 800, learning_rate = 0.0001, print_cost = False):\n",
    "    \n",
    "    ops.reset_default_graph()\n",
    "    nx = train_x.shape[0]\n",
    "    ny = train_y.shape[0]\n",
    "    costs = []\n",
    "    \n",
    "    X, Y = create_placeholder(nx, ny)  # 占位符\n",
    "    \n",
    "    params = init_params(layer_dims)\n",
    "    \n",
    "    ZL, caches = forward_prop(X, params)\n",
    "    \n",
    "    cost = cost_fun(ZL, Y)\n",
    "    \n",
    "    optimizer = tf.train.AdamOptimizer(learning_rate).minimize(cost)\n",
    "    \n",
    "    init = tf.global_variables_initializer()\n",
    "    \n",
    "    with tf.Session() as sess:\n",
    "        \n",
    "        sess.run(init)\n",
    "        \n",
    "        for i in range(num_itera):\n",
    "            epoch_cost = 0\n",
    "            mini_batches = random_mini_batches(train_x, train_y, batch_size)\n",
    "            num_batch = len(mini_batches)\n",
    "            for mini_batch in mini_batches:\n",
    "                (minibatch_X, minibatch_Y) = mini_batch\n",
    "                _, minibatch_cost = sess.run([optimizer, cost], feed_dict = { X: minibatch_X, Y: minibatch_Y})\n",
    "                epoch_cost += minibatch_cost / num_batch  # 平均损失\n",
    "            \n",
    "            if print_cost and i % 100 == 0:\n",
    "                print(\"Cost in itera %i is %f\" % (i, epoch_cost))\n",
    "            \n",
    "            if i % 10 == 0:\n",
    "                costs.append(epoch_cost)\n",
    "            \n",
    "        # plot the cost\n",
    "        plt.plot(np.squeeze(costs))\n",
    "        plt.ylabel('cost')\n",
    "        plt.xlabel('iterations (per 10)')\n",
    "        plt.title(\"Learning rate =\" + str(learning_rate))\n",
    "        plt.show()\n",
    "        \n",
    "        params = sess.run(params)\n",
    "        print(\"参数训练完毕\")\n",
    "        \n",
    "        correct_pred = tf.equal(tf.argmax(ZL), tf.argmax(Y))\n",
    "        \n",
    "        accuracy = tf.reduce_mean(tf.cast(correct_pred, \"float\"))\n",
    "        \n",
    "        train_acc = accuracy.eval({X: train_x, Y: train_y})\n",
    "        test_acc = accuracy.eval({X: test_x, Y: test_y})\n",
    "        \n",
    "        print (\"Train Accuracy:\", train_acc)\n",
    "        print (\"Test Accuracy:\", test_acc)\n",
    "        \n",
    "        return params"
   ]
  },
  {
   "cell_type": "code",
   "execution_count": 48,
   "metadata": {},
   "outputs": [
    {
     "name": "stdout",
     "output_type": "stream",
     "text": [
      "Cost in itera 0 is 1.811449\n",
      "Cost in itera 100 is 0.628334\n",
      "Cost in itera 200 is 0.246181\n",
      "Cost in itera 300 is 0.123514\n",
      "Cost in itera 400 is 0.040949\n",
      "Cost in itera 500 is 0.094116\n",
      "Cost in itera 600 is 0.036758\n",
      "Cost in itera 700 is 0.026896\n"
     ]
    },
    {
     "data": {
      "image/png": "[encoded data removed]",
      "text/plain": [
       "<matplotlib.figure.Figure at 0x7fb9dc2077b8>"
      ]
     },
     "metadata": {},
     "output_type": "display_data"
    },
    {
     "name": "stdout",
     "output_type": "stream",
     "text": [
      "参数训练完毕\n",
      "Train Accuracy: 1.0\n",
      "Test Accuracy: 0.825\n"
     ]
    }
   ],
   "source": [
    "layer_dims = [12288, 100, 50, 25, 12, 6]\n",
    "\n",
    "params = model(train_x, train_y, test_x, test_y, layer_dims, print_cost = True)"
   ]
  },
  {
   "cell_type": "code",
   "execution_count": 50,
   "metadata": {},
   "outputs": [
    {
     "name": "stdout",
     "output_type": "stream",
     "text": [
      "Your algorithm predicts: y = 3\n"
     ]
    },
    {
     "data": {
      "image/png": "[encoded data removed]",
      "text/plain": [
       "<matplotlib.figure.Figure at 0x7fb9d47dc438>"
      ]
     },
     "metadata": {},
     "output_type": "display_data"
    }
   ],
   "source": [
    "import scipy\n",
    "from PIL import Image\n",
    "from scipy import ndimage\n",
    "\n",
    "## START CODE HERE ## (PUT YOUR IMAGE NAME) \n",
    "# my_image = \"thumbs_up.jpg\"\n",
    "my_image = \"dyj3.jpg\"\n",
    "## END CODE HERE ##\n",
    "\n",
    "# We preprocess your image to fit your algorithm.\n",
    "fname = \"images/\" + my_image\n",
    "image = np.array(ndimage.imread(fname, flatten=False))\n",
    "my_image = scipy.misc.imresize(image, size=(64,64)).reshape((1, 64*64*3)).T\n",
    "my_image_prediction = predict(my_image, params)\n",
    "\n",
    "plt.imshow(image)\n",
    "print(\"Your algorithm predicts: y = \" + str(np.squeeze(my_image_prediction)))"
   ]
  },
  {
   "cell_type": "code",
   "execution_count": null,
   "metadata": {
    "collapsed": true
   },
   "outputs": [],
   "source": []
  },
  {
   "cell_type": "code",
   "execution_count": null,
   "metadata": {
    "collapsed": true
   },
   "outputs": [],
   "source": []
  }
 ],
 "metadata": {
  "kernelspec": {
   "display_name": "Python 3",
   "language": "python",
   "name": "python3"
  },
  "language_info": {
   "codemirror_mode": {
    "name": "ipython",
    "version": 3
   },
   "file_extension": ".py",
   "mimetype": "text/x-python",
   "name": "python",
   "nbconvert_exporter": "python",
   "pygments_lexer": "ipython3",
   "version": "3.6.3"
  }
 },
 "nbformat": 4,
 "nbformat_minor": 2
}
